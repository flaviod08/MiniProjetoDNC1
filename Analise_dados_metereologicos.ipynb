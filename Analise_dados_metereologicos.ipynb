{
  "nbformat": 4,
  "nbformat_minor": 0,
  "metadata": {
    "colab": {
      "provenance": [],
      "include_colab_link": true
    },
    "kernelspec": {
      "name": "python3",
      "display_name": "Python 3"
    },
    "language_info": {
      "name": "python"
    }
  },
  "cells": [
    {
      "cell_type": "markdown",
      "metadata": {
        "id": "view-in-github",
        "colab_type": "text"
      },
      "source": [
        "<a href=\"https://colab.research.google.com/github/flaviod08/MiniProjetoDNC1/blob/main/Analise_dados_metereologicos.ipynb\" target=\"_parent\"><img src=\"https://colab.research.google.com/assets/colab-badge.svg\" alt=\"Open In Colab\"/></a>"
      ]
    },
    {
      "cell_type": "markdown",
      "source": [
        "\n",
        "\n",
        "> Neste script iremos trabalhar com a análise estatística de dados metereológicos dos meses de Jan/Fev/2021 do município de Manaus - AM\n",
        "\n"
      ],
      "metadata": {
        "id": "b1yLNGGvppIu"
      }
    },
    {
      "cell_type": "code",
      "source": [
        "pip install pivottablejs"
      ],
      "metadata": {
        "colab": {
          "base_uri": "https://localhost:8080/"
        },
        "id": "W3HMgX2hZSqp",
        "outputId": "52d8f579-80f2-4821-c8e7-6e935c1775df"
      },
      "execution_count": null,
      "outputs": [
        {
          "output_type": "stream",
          "name": "stdout",
          "text": [
            "Looking in indexes: https://pypi.org/simple, https://us-python.pkg.dev/colab-wheels/public/simple/\n",
            "Requirement already satisfied: pivottablejs in /usr/local/lib/python3.7/dist-packages (0.9.0)\n"
          ]
        }
      ]
    },
    {
      "cell_type": "code",
      "execution_count": null,
      "metadata": {
        "id": "gCrV2kWUGHZw"
      },
      "outputs": [],
      "source": [
        "import numpy as np\n",
        "import pandas as pd\n",
        "import matplotlib.pyplot as plt\n",
        "from sklearn.linear_model import LinearRegression\n",
        "import statsmodels.api as sm\n",
        "import seaborn as sns\n",
        "import scipy as sc\n",
        "import seaborn as sns\n",
        "from scipy.stats import normaltest\n"
      ]
    },
    {
      "cell_type": "code",
      "source": [
        "# Abrindo o arquivo \n",
        "df = pd.read_csv('/content/INMET_MANAUS_JaneFev.CSV', sep =';')\n",
        "df.head(2)"
      ],
      "metadata": {
        "colab": {
          "base_uri": "https://localhost:8080/",
          "height": 193
        },
        "id": "yY6kACRVHU-R",
        "outputId": "abdf8ac5-74e2-485c-e056-881a6b974362"
      },
      "execution_count": null,
      "outputs": [
        {
          "output_type": "execute_result",
          "data": {
            "text/plain": [
              "         Data  precipitacao(mm)    Patm  RADIACAO GLOBAL  TEMP_AR  TEMP.PTO  \\\n",
              "0  01/01/2021               0.0  1002.5              0.0     28.4      23.2   \n",
              "1  01/01/2021               0.0  1003.3              0.0     27.7      23.6   \n",
              "\n",
              "   TEMP_Max  TEMP_ORVALHO_MAX  TEMP_ORVALHO_MIN(°C)  UMIDADE_REL_MAX(%)  \\\n",
              "0      29.0              23.2                  22.3                  73   \n",
              "1      28.5              23.6                  23.2                  79   \n",
              "\n",
              "   UMIDADE_REL_MIN(%)  UMIDADE_REL_DO_AR(%)  VENTO_DIRECA_HORARIA  \\\n",
              "0                  67                    73                    84   \n",
              "1                  73                    79                    68   \n",
              "\n",
              "   VENTO_RAJADA_MAX(m/s)  VENTO_VELOCIDADE(m/s)  \n",
              "0                    3.4                    1.6  \n",
              "1                    3.4                    1.2  "
            ],
            "text/html": [
              "\n",
              "  <div id=\"df-409fb3da-80fa-4146-aeac-32e73feefab8\">\n",
              "    <div class=\"colab-df-container\">\n",
              "      <div>\n",
              "<style scoped>\n",
              "    .dataframe tbody tr th:only-of-type {\n",
              "        vertical-align: middle;\n",
              "    }\n",
              "\n",
              "    .dataframe tbody tr th {\n",
              "        vertical-align: top;\n",
              "    }\n",
              "\n",
              "    .dataframe thead th {\n",
              "        text-align: right;\n",
              "    }\n",
              "</style>\n",
              "<table border=\"1\" class=\"dataframe\">\n",
              "  <thead>\n",
              "    <tr style=\"text-align: right;\">\n",
              "      <th></th>\n",
              "      <th>Data</th>\n",
              "      <th>precipitacao(mm)</th>\n",
              "      <th>Patm</th>\n",
              "      <th>RADIACAO GLOBAL</th>\n",
              "      <th>TEMP_AR</th>\n",
              "      <th>TEMP.PTO</th>\n",
              "      <th>TEMP_Max</th>\n",
              "      <th>TEMP_ORVALHO_MAX</th>\n",
              "      <th>TEMP_ORVALHO_MIN(°C)</th>\n",
              "      <th>UMIDADE_REL_MAX(%)</th>\n",
              "      <th>UMIDADE_REL_MIN(%)</th>\n",
              "      <th>UMIDADE_REL_DO_AR(%)</th>\n",
              "      <th>VENTO_DIRECA_HORARIA</th>\n",
              "      <th>VENTO_RAJADA_MAX(m/s)</th>\n",
              "      <th>VENTO_VELOCIDADE(m/s)</th>\n",
              "    </tr>\n",
              "  </thead>\n",
              "  <tbody>\n",
              "    <tr>\n",
              "      <th>0</th>\n",
              "      <td>01/01/2021</td>\n",
              "      <td>0.0</td>\n",
              "      <td>1002.5</td>\n",
              "      <td>0.0</td>\n",
              "      <td>28.4</td>\n",
              "      <td>23.2</td>\n",
              "      <td>29.0</td>\n",
              "      <td>23.2</td>\n",
              "      <td>22.3</td>\n",
              "      <td>73</td>\n",
              "      <td>67</td>\n",
              "      <td>73</td>\n",
              "      <td>84</td>\n",
              "      <td>3.4</td>\n",
              "      <td>1.6</td>\n",
              "    </tr>\n",
              "    <tr>\n",
              "      <th>1</th>\n",
              "      <td>01/01/2021</td>\n",
              "      <td>0.0</td>\n",
              "      <td>1003.3</td>\n",
              "      <td>0.0</td>\n",
              "      <td>27.7</td>\n",
              "      <td>23.6</td>\n",
              "      <td>28.5</td>\n",
              "      <td>23.6</td>\n",
              "      <td>23.2</td>\n",
              "      <td>79</td>\n",
              "      <td>73</td>\n",
              "      <td>79</td>\n",
              "      <td>68</td>\n",
              "      <td>3.4</td>\n",
              "      <td>1.2</td>\n",
              "    </tr>\n",
              "  </tbody>\n",
              "</table>\n",
              "</div>\n",
              "      <button class=\"colab-df-convert\" onclick=\"convertToInteractive('df-409fb3da-80fa-4146-aeac-32e73feefab8')\"\n",
              "              title=\"Convert this dataframe to an interactive table.\"\n",
              "              style=\"display:none;\">\n",
              "        \n",
              "  <svg xmlns=\"http://www.w3.org/2000/svg\" height=\"24px\"viewBox=\"0 0 24 24\"\n",
              "       width=\"24px\">\n",
              "    <path d=\"M0 0h24v24H0V0z\" fill=\"none\"/>\n",
              "    <path d=\"M18.56 5.44l.94 2.06.94-2.06 2.06-.94-2.06-.94-.94-2.06-.94 2.06-2.06.94zm-11 1L8.5 8.5l.94-2.06 2.06-.94-2.06-.94L8.5 2.5l-.94 2.06-2.06.94zm10 10l.94 2.06.94-2.06 2.06-.94-2.06-.94-.94-2.06-.94 2.06-2.06.94z\"/><path d=\"M17.41 7.96l-1.37-1.37c-.4-.4-.92-.59-1.43-.59-.52 0-1.04.2-1.43.59L10.3 9.45l-7.72 7.72c-.78.78-.78 2.05 0 2.83L4 21.41c.39.39.9.59 1.41.59.51 0 1.02-.2 1.41-.59l7.78-7.78 2.81-2.81c.8-.78.8-2.07 0-2.86zM5.41 20L4 18.59l7.72-7.72 1.47 1.35L5.41 20z\"/>\n",
              "  </svg>\n",
              "      </button>\n",
              "      \n",
              "  <style>\n",
              "    .colab-df-container {\n",
              "      display:flex;\n",
              "      flex-wrap:wrap;\n",
              "      gap: 12px;\n",
              "    }\n",
              "\n",
              "    .colab-df-convert {\n",
              "      background-color: #E8F0FE;\n",
              "      border: none;\n",
              "      border-radius: 50%;\n",
              "      cursor: pointer;\n",
              "      display: none;\n",
              "      fill: #1967D2;\n",
              "      height: 32px;\n",
              "      padding: 0 0 0 0;\n",
              "      width: 32px;\n",
              "    }\n",
              "\n",
              "    .colab-df-convert:hover {\n",
              "      background-color: #E2EBFA;\n",
              "      box-shadow: 0px 1px 2px rgba(60, 64, 67, 0.3), 0px 1px 3px 1px rgba(60, 64, 67, 0.15);\n",
              "      fill: #174EA6;\n",
              "    }\n",
              "\n",
              "    [theme=dark] .colab-df-convert {\n",
              "      background-color: #3B4455;\n",
              "      fill: #D2E3FC;\n",
              "    }\n",
              "\n",
              "    [theme=dark] .colab-df-convert:hover {\n",
              "      background-color: #434B5C;\n",
              "      box-shadow: 0px 1px 3px 1px rgba(0, 0, 0, 0.15);\n",
              "      filter: drop-shadow(0px 1px 2px rgba(0, 0, 0, 0.3));\n",
              "      fill: #FFFFFF;\n",
              "    }\n",
              "  </style>\n",
              "\n",
              "      <script>\n",
              "        const buttonEl =\n",
              "          document.querySelector('#df-409fb3da-80fa-4146-aeac-32e73feefab8 button.colab-df-convert');\n",
              "        buttonEl.style.display =\n",
              "          google.colab.kernel.accessAllowed ? 'block' : 'none';\n",
              "\n",
              "        async function convertToInteractive(key) {\n",
              "          const element = document.querySelector('#df-409fb3da-80fa-4146-aeac-32e73feefab8');\n",
              "          const dataTable =\n",
              "            await google.colab.kernel.invokeFunction('convertToInteractive',\n",
              "                                                     [key], {});\n",
              "          if (!dataTable) return;\n",
              "\n",
              "          const docLinkHtml = 'Like what you see? Visit the ' +\n",
              "            '<a target=\"_blank\" href=https://colab.research.google.com/notebooks/data_table.ipynb>data table notebook</a>'\n",
              "            + ' to learn more about interactive tables.';\n",
              "          element.innerHTML = '';\n",
              "          dataTable['output_type'] = 'display_data';\n",
              "          await google.colab.output.renderOutput(dataTable, element);\n",
              "          const docLink = document.createElement('div');\n",
              "          docLink.innerHTML = docLinkHtml;\n",
              "          element.appendChild(docLink);\n",
              "        }\n",
              "      </script>\n",
              "    </div>\n",
              "  </div>\n",
              "  "
            ]
          },
          "metadata": {},
          "execution_count": 35
        }
      ]
    },
    {
      "cell_type": "code",
      "source": [
        "from pivottablejs import pivot_ui\n",
        "pivot_ui(df)\n",
        "pivot_ui(df, rows=['TEMP_AR'], cols=['UMIDADE_REL_DO_AR(%)'])"
      ],
      "metadata": {
        "colab": {
          "base_uri": "https://localhost:8080/",
          "height": 522
        },
        "id": "s2Mf8kQ8ZILt",
        "outputId": "fc15ef8c-b419-49b4-fa75-e4976f305379"
      },
      "execution_count": null,
      "outputs": [
        {
          "output_type": "execute_result",
          "data": {
            "text/plain": [
              "<IPython.lib.display.IFrame at 0x7f3045b50f90>"
            ],
            "text/html": [
              "\n",
              "        <iframe\n",
              "            width=\"100%\"\n",
              "            height=\"500\"\n",
              "            src=\"pivottablejs.html\"\n",
              "            frameborder=\"0\"\n",
              "            allowfullscreen\n",
              "        ></iframe>\n",
              "        "
            ]
          },
          "metadata": {},
          "execution_count": 36
        }
      ]
    },
    {
      "cell_type": "code",
      "source": [
        "# identificação dos tipos de variaveis\n",
        "df.dtypes"
      ],
      "metadata": {
        "colab": {
          "base_uri": "https://localhost:8080/"
        },
        "id": "exFMAp0sLwE3",
        "outputId": "5fede291-cc96-4d71-fbaa-5a9623e23d0b"
      },
      "execution_count": null,
      "outputs": [
        {
          "output_type": "execute_result",
          "data": {
            "text/plain": [
              "Data                      object\n",
              "precipitacao(mm)         float64\n",
              "Patm                     float64\n",
              "RADIACAO GLOBAL          float64\n",
              "TEMP_AR                  float64\n",
              "TEMP.PTO                 float64\n",
              "TEMP_Max                 float64\n",
              "TEMP_ORVALHO_MAX         float64\n",
              "TEMP_ORVALHO_MIN(°C)     float64\n",
              "UMIDADE_REL_MAX(%)         int64\n",
              "UMIDADE_REL_MIN(%)         int64\n",
              "UMIDADE_REL_DO_AR(%)       int64\n",
              "VENTO_DIRECA_HORARIA       int64\n",
              "VENTO_RAJADA_MAX(m/s)    float64\n",
              "VENTO_VELOCIDADE(m/s)    float64\n",
              "dtype: object"
            ]
          },
          "metadata": {},
          "execution_count": 32
        }
      ]
    },
    {
      "cell_type": "code",
      "source": [
        "# Dando nome a variavel principal para facilitar o manuseio da mesma\n",
        "temperatura = df['TEMP_AR']\n",
        "temperatura"
      ],
      "metadata": {
        "colab": {
          "base_uri": "https://localhost:8080/"
        },
        "id": "0RGanYJOQyhl",
        "outputId": "7645a6a0-1982-4a8b-fd29-2dd95bd7aee5"
      },
      "execution_count": null,
      "outputs": [
        {
          "output_type": "execute_result",
          "data": {
            "text/plain": [
              "0       28.4\n",
              "1       27.7\n",
              "2       27.7\n",
              "3       27.1\n",
              "4       26.2\n",
              "        ... \n",
              "1215    27.5\n",
              "1216    27.1\n",
              "1217    26.7\n",
              "1218    26.1\n",
              "1219    25.6\n",
              "Name: TEMP_AR, Length: 1220, dtype: float64"
            ]
          },
          "metadata": {},
          "execution_count": 9
        }
      ]
    },
    {
      "cell_type": "code",
      "source": [
        "#Descrição estatística dos dados\n",
        "analise_est = df.describe()\n",
        "analise_est "
      ],
      "metadata": {
        "colab": {
          "base_uri": "https://localhost:8080/",
          "height": 382
        },
        "id": "4sR0edFaKpak",
        "outputId": "696d7a55-c3ab-4469-86fe-41d91a1b40df"
      },
      "execution_count": null,
      "outputs": [
        {
          "output_type": "execute_result",
          "data": {
            "text/plain": [
              "       precipitacao(mm)         Patm  RADIACAO GLOBAL      TEMP_AR  \\\n",
              "count       1220.000000  1220.000000      1220.000000  1220.000000   \n",
              "mean           0.546393  1003.571721       523.442377    26.277213   \n",
              "std            2.555577     1.859740       810.762435     2.336929   \n",
              "min            0.000000   998.100000         0.000000    21.900000   \n",
              "25%            0.000000  1002.200000         0.000000    24.500000   \n",
              "50%            0.000000  1003.600000        18.550000    25.700000   \n",
              "75%            0.000000  1004.800000       855.600000    27.700000   \n",
              "max           34.600000  1009.500000      3806.200000    33.400000   \n",
              "\n",
              "          TEMP.PTO     TEMP_Max  TEMP_ORVALHO_MAX  TEMP_ORVALHO_MIN(°C)  \\\n",
              "count  1220.000000  1220.000000       1220.000000           1220.000000   \n",
              "mean     22.797869    26.782295         23.261639             22.386148   \n",
              "std       0.854643     2.579527          0.819704              0.947453   \n",
              "min      19.700000    22.100000         20.500000             19.000000   \n",
              "25%      22.300000    24.800000         22.700000             21.800000   \n",
              "50%      22.900000    26.100000         23.300000             22.500000   \n",
              "75%      23.400000    28.525000         23.800000             23.000000   \n",
              "max      25.100000    33.900000         26.200000             24.900000   \n",
              "\n",
              "       UMIDADE_REL_MAX(%)  UMIDADE_REL_MIN(%)  UMIDADE_REL_DO_AR(%)  \\\n",
              "count         1220.000000         1220.000000           1220.000000   \n",
              "mean            84.872131           79.531148             82.231967   \n",
              "std             10.257555           12.989420             11.711299   \n",
              "min             52.000000           44.000000             47.000000   \n",
              "25%             79.000000           70.000000             74.000000   \n",
              "50%             88.000000           83.000000             86.000000   \n",
              "75%             93.000000           90.000000             92.000000   \n",
              "max             96.000000           95.000000             95.000000   \n",
              "\n",
              "       VENTO_DIRECA_HORARIA  VENTO_RAJADA_MAX(m/s)  VENTO_VELOCIDADE(m/s)  \n",
              "count           1220.000000            1220.000000            1220.000000  \n",
              "mean             122.394262               3.552951               1.199426  \n",
              "std               99.379211               1.895982               0.737949  \n",
              "min                1.000000               0.500000               0.100000  \n",
              "25%               54.000000               2.000000               0.600000  \n",
              "50%               77.000000               3.300000               1.050000  \n",
              "75%              194.000000               4.700000               1.600000  \n",
              "max              359.000000              14.900000               4.500000  "
            ],
            "text/html": [
              "\n",
              "  <div id=\"df-6bc35f61-b4af-433b-8734-75aa0a3cb398\">\n",
              "    <div class=\"colab-df-container\">\n",
              "      <div>\n",
              "<style scoped>\n",
              "    .dataframe tbody tr th:only-of-type {\n",
              "        vertical-align: middle;\n",
              "    }\n",
              "\n",
              "    .dataframe tbody tr th {\n",
              "        vertical-align: top;\n",
              "    }\n",
              "\n",
              "    .dataframe thead th {\n",
              "        text-align: right;\n",
              "    }\n",
              "</style>\n",
              "<table border=\"1\" class=\"dataframe\">\n",
              "  <thead>\n",
              "    <tr style=\"text-align: right;\">\n",
              "      <th></th>\n",
              "      <th>precipitacao(mm)</th>\n",
              "      <th>Patm</th>\n",
              "      <th>RADIACAO GLOBAL</th>\n",
              "      <th>TEMP_AR</th>\n",
              "      <th>TEMP.PTO</th>\n",
              "      <th>TEMP_Max</th>\n",
              "      <th>TEMP_ORVALHO_MAX</th>\n",
              "      <th>TEMP_ORVALHO_MIN(°C)</th>\n",
              "      <th>UMIDADE_REL_MAX(%)</th>\n",
              "      <th>UMIDADE_REL_MIN(%)</th>\n",
              "      <th>UMIDADE_REL_DO_AR(%)</th>\n",
              "      <th>VENTO_DIRECA_HORARIA</th>\n",
              "      <th>VENTO_RAJADA_MAX(m/s)</th>\n",
              "      <th>VENTO_VELOCIDADE(m/s)</th>\n",
              "    </tr>\n",
              "  </thead>\n",
              "  <tbody>\n",
              "    <tr>\n",
              "      <th>count</th>\n",
              "      <td>1220.000000</td>\n",
              "      <td>1220.000000</td>\n",
              "      <td>1220.000000</td>\n",
              "      <td>1220.000000</td>\n",
              "      <td>1220.000000</td>\n",
              "      <td>1220.000000</td>\n",
              "      <td>1220.000000</td>\n",
              "      <td>1220.000000</td>\n",
              "      <td>1220.000000</td>\n",
              "      <td>1220.000000</td>\n",
              "      <td>1220.000000</td>\n",
              "      <td>1220.000000</td>\n",
              "      <td>1220.000000</td>\n",
              "      <td>1220.000000</td>\n",
              "    </tr>\n",
              "    <tr>\n",
              "      <th>mean</th>\n",
              "      <td>0.546393</td>\n",
              "      <td>1003.571721</td>\n",
              "      <td>523.442377</td>\n",
              "      <td>26.277213</td>\n",
              "      <td>22.797869</td>\n",
              "      <td>26.782295</td>\n",
              "      <td>23.261639</td>\n",
              "      <td>22.386148</td>\n",
              "      <td>84.872131</td>\n",
              "      <td>79.531148</td>\n",
              "      <td>82.231967</td>\n",
              "      <td>122.394262</td>\n",
              "      <td>3.552951</td>\n",
              "      <td>1.199426</td>\n",
              "    </tr>\n",
              "    <tr>\n",
              "      <th>std</th>\n",
              "      <td>2.555577</td>\n",
              "      <td>1.859740</td>\n",
              "      <td>810.762435</td>\n",
              "      <td>2.336929</td>\n",
              "      <td>0.854643</td>\n",
              "      <td>2.579527</td>\n",
              "      <td>0.819704</td>\n",
              "      <td>0.947453</td>\n",
              "      <td>10.257555</td>\n",
              "      <td>12.989420</td>\n",
              "      <td>11.711299</td>\n",
              "      <td>99.379211</td>\n",
              "      <td>1.895982</td>\n",
              "      <td>0.737949</td>\n",
              "    </tr>\n",
              "    <tr>\n",
              "      <th>min</th>\n",
              "      <td>0.000000</td>\n",
              "      <td>998.100000</td>\n",
              "      <td>0.000000</td>\n",
              "      <td>21.900000</td>\n",
              "      <td>19.700000</td>\n",
              "      <td>22.100000</td>\n",
              "      <td>20.500000</td>\n",
              "      <td>19.000000</td>\n",
              "      <td>52.000000</td>\n",
              "      <td>44.000000</td>\n",
              "      <td>47.000000</td>\n",
              "      <td>1.000000</td>\n",
              "      <td>0.500000</td>\n",
              "      <td>0.100000</td>\n",
              "    </tr>\n",
              "    <tr>\n",
              "      <th>25%</th>\n",
              "      <td>0.000000</td>\n",
              "      <td>1002.200000</td>\n",
              "      <td>0.000000</td>\n",
              "      <td>24.500000</td>\n",
              "      <td>22.300000</td>\n",
              "      <td>24.800000</td>\n",
              "      <td>22.700000</td>\n",
              "      <td>21.800000</td>\n",
              "      <td>79.000000</td>\n",
              "      <td>70.000000</td>\n",
              "      <td>74.000000</td>\n",
              "      <td>54.000000</td>\n",
              "      <td>2.000000</td>\n",
              "      <td>0.600000</td>\n",
              "    </tr>\n",
              "    <tr>\n",
              "      <th>50%</th>\n",
              "      <td>0.000000</td>\n",
              "      <td>1003.600000</td>\n",
              "      <td>18.550000</td>\n",
              "      <td>25.700000</td>\n",
              "      <td>22.900000</td>\n",
              "      <td>26.100000</td>\n",
              "      <td>23.300000</td>\n",
              "      <td>22.500000</td>\n",
              "      <td>88.000000</td>\n",
              "      <td>83.000000</td>\n",
              "      <td>86.000000</td>\n",
              "      <td>77.000000</td>\n",
              "      <td>3.300000</td>\n",
              "      <td>1.050000</td>\n",
              "    </tr>\n",
              "    <tr>\n",
              "      <th>75%</th>\n",
              "      <td>0.000000</td>\n",
              "      <td>1004.800000</td>\n",
              "      <td>855.600000</td>\n",
              "      <td>27.700000</td>\n",
              "      <td>23.400000</td>\n",
              "      <td>28.525000</td>\n",
              "      <td>23.800000</td>\n",
              "      <td>23.000000</td>\n",
              "      <td>93.000000</td>\n",
              "      <td>90.000000</td>\n",
              "      <td>92.000000</td>\n",
              "      <td>194.000000</td>\n",
              "      <td>4.700000</td>\n",
              "      <td>1.600000</td>\n",
              "    </tr>\n",
              "    <tr>\n",
              "      <th>max</th>\n",
              "      <td>34.600000</td>\n",
              "      <td>1009.500000</td>\n",
              "      <td>3806.200000</td>\n",
              "      <td>33.400000</td>\n",
              "      <td>25.100000</td>\n",
              "      <td>33.900000</td>\n",
              "      <td>26.200000</td>\n",
              "      <td>24.900000</td>\n",
              "      <td>96.000000</td>\n",
              "      <td>95.000000</td>\n",
              "      <td>95.000000</td>\n",
              "      <td>359.000000</td>\n",
              "      <td>14.900000</td>\n",
              "      <td>4.500000</td>\n",
              "    </tr>\n",
              "  </tbody>\n",
              "</table>\n",
              "</div>\n",
              "      <button class=\"colab-df-convert\" onclick=\"convertToInteractive('df-6bc35f61-b4af-433b-8734-75aa0a3cb398')\"\n",
              "              title=\"Convert this dataframe to an interactive table.\"\n",
              "              style=\"display:none;\">\n",
              "        \n",
              "  <svg xmlns=\"http://www.w3.org/2000/svg\" height=\"24px\"viewBox=\"0 0 24 24\"\n",
              "       width=\"24px\">\n",
              "    <path d=\"M0 0h24v24H0V0z\" fill=\"none\"/>\n",
              "    <path d=\"M18.56 5.44l.94 2.06.94-2.06 2.06-.94-2.06-.94-.94-2.06-.94 2.06-2.06.94zm-11 1L8.5 8.5l.94-2.06 2.06-.94-2.06-.94L8.5 2.5l-.94 2.06-2.06.94zm10 10l.94 2.06.94-2.06 2.06-.94-2.06-.94-.94-2.06-.94 2.06-2.06.94z\"/><path d=\"M17.41 7.96l-1.37-1.37c-.4-.4-.92-.59-1.43-.59-.52 0-1.04.2-1.43.59L10.3 9.45l-7.72 7.72c-.78.78-.78 2.05 0 2.83L4 21.41c.39.39.9.59 1.41.59.51 0 1.02-.2 1.41-.59l7.78-7.78 2.81-2.81c.8-.78.8-2.07 0-2.86zM5.41 20L4 18.59l7.72-7.72 1.47 1.35L5.41 20z\"/>\n",
              "  </svg>\n",
              "      </button>\n",
              "      \n",
              "  <style>\n",
              "    .colab-df-container {\n",
              "      display:flex;\n",
              "      flex-wrap:wrap;\n",
              "      gap: 12px;\n",
              "    }\n",
              "\n",
              "    .colab-df-convert {\n",
              "      background-color: #E8F0FE;\n",
              "      border: none;\n",
              "      border-radius: 50%;\n",
              "      cursor: pointer;\n",
              "      display: none;\n",
              "      fill: #1967D2;\n",
              "      height: 32px;\n",
              "      padding: 0 0 0 0;\n",
              "      width: 32px;\n",
              "    }\n",
              "\n",
              "    .colab-df-convert:hover {\n",
              "      background-color: #E2EBFA;\n",
              "      box-shadow: 0px 1px 2px rgba(60, 64, 67, 0.3), 0px 1px 3px 1px rgba(60, 64, 67, 0.15);\n",
              "      fill: #174EA6;\n",
              "    }\n",
              "\n",
              "    [theme=dark] .colab-df-convert {\n",
              "      background-color: #3B4455;\n",
              "      fill: #D2E3FC;\n",
              "    }\n",
              "\n",
              "    [theme=dark] .colab-df-convert:hover {\n",
              "      background-color: #434B5C;\n",
              "      box-shadow: 0px 1px 3px 1px rgba(0, 0, 0, 0.15);\n",
              "      filter: drop-shadow(0px 1px 2px rgba(0, 0, 0, 0.3));\n",
              "      fill: #FFFFFF;\n",
              "    }\n",
              "  </style>\n",
              "\n",
              "      <script>\n",
              "        const buttonEl =\n",
              "          document.querySelector('#df-6bc35f61-b4af-433b-8734-75aa0a3cb398 button.colab-df-convert');\n",
              "        buttonEl.style.display =\n",
              "          google.colab.kernel.accessAllowed ? 'block' : 'none';\n",
              "\n",
              "        async function convertToInteractive(key) {\n",
              "          const element = document.querySelector('#df-6bc35f61-b4af-433b-8734-75aa0a3cb398');\n",
              "          const dataTable =\n",
              "            await google.colab.kernel.invokeFunction('convertToInteractive',\n",
              "                                                     [key], {});\n",
              "          if (!dataTable) return;\n",
              "\n",
              "          const docLinkHtml = 'Like what you see? Visit the ' +\n",
              "            '<a target=\"_blank\" href=https://colab.research.google.com/notebooks/data_table.ipynb>data table notebook</a>'\n",
              "            + ' to learn more about interactive tables.';\n",
              "          element.innerHTML = '';\n",
              "          dataTable['output_type'] = 'display_data';\n",
              "          await google.colab.output.renderOutput(dataTable, element);\n",
              "          const docLink = document.createElement('div');\n",
              "          docLink.innerHTML = docLinkHtml;\n",
              "          element.appendChild(docLink);\n",
              "        }\n",
              "      </script>\n",
              "    </div>\n",
              "  </div>\n",
              "  "
            ]
          },
          "metadata": {},
          "execution_count": 42
        }
      ]
    },
    {
      "cell_type": "code",
      "source": [
        "#Obter Informações dos dados\n",
        "df.info()"
      ],
      "metadata": {
        "colab": {
          "base_uri": "https://localhost:8080/"
        },
        "id": "mlcaDS_8Q29U",
        "outputId": "f425031e-94d7-48fa-d025-d064dfe67beb"
      },
      "execution_count": null,
      "outputs": [
        {
          "output_type": "stream",
          "name": "stdout",
          "text": [
            "<class 'pandas.core.frame.DataFrame'>\n",
            "RangeIndex: 1220 entries, 0 to 1219\n",
            "Data columns (total 15 columns):\n",
            " #   Column                 Non-Null Count  Dtype  \n",
            "---  ------                 --------------  -----  \n",
            " 0   Data                   1220 non-null   object \n",
            " 1   precipitacao(mm)       1220 non-null   float64\n",
            " 2   Patm                   1220 non-null   float64\n",
            " 3   RADIACAO GLOBAL        1220 non-null   float64\n",
            " 4   TEMP_AR                1220 non-null   float64\n",
            " 5   TEMP.PTO               1220 non-null   float64\n",
            " 6   TEMP_Max               1220 non-null   float64\n",
            " 7   TEMP_ORVALHO_MAX       1220 non-null   float64\n",
            " 8   TEMP_ORVALHO_MIN(°C)   1220 non-null   float64\n",
            " 9   UMIDADE_REL_MAX(%)     1220 non-null   int64  \n",
            " 10  UMIDADE_REL_MIN(%)     1220 non-null   int64  \n",
            " 11  UMIDADE_REL_DO_AR(%)   1220 non-null   int64  \n",
            " 12  VENTO_DIRECA_HORARIA   1220 non-null   int64  \n",
            " 13  VENTO_RAJADA_MAX(m/s)  1220 non-null   float64\n",
            " 14  VENTO_VELOCIDADE(m/s)  1220 non-null   float64\n",
            "dtypes: float64(10), int64(4), object(1)\n",
            "memory usage: 143.1+ KB\n"
          ]
        }
      ]
    },
    {
      "cell_type": "code",
      "source": [
        "#Checando os dados\n",
        "df.shape"
      ],
      "metadata": {
        "colab": {
          "base_uri": "https://localhost:8080/"
        },
        "id": "CnwDoq4jHjrf",
        "outputId": "fed8942c-16b1-495d-8c35-7625374555b4"
      },
      "execution_count": null,
      "outputs": [
        {
          "output_type": "execute_result",
          "data": {
            "text/plain": [
              "(1220, 15)"
            ]
          },
          "metadata": {},
          "execution_count": 7
        }
      ]
    },
    {
      "cell_type": "code",
      "source": [
        "# Identificando a temperatura máxima\n",
        "temp_max = max(temperatura)\n",
        "\n",
        "print(temp_max)"
      ],
      "metadata": {
        "colab": {
          "base_uri": "https://localhost:8080/"
        },
        "id": "-OCNl2c_LIqi",
        "outputId": "7d3dcf6f-3cb2-4382-f30e-020107795d08"
      },
      "execution_count": null,
      "outputs": [
        {
          "output_type": "stream",
          "name": "stdout",
          "text": [
            "33.4\n"
          ]
        }
      ]
    },
    {
      "cell_type": "code",
      "source": [
        "# Identificando a temperatura minima\n",
        "temp_min = min(temperatura)\n",
        "print(temp_min)"
      ],
      "metadata": {
        "colab": {
          "base_uri": "https://localhost:8080/"
        },
        "id": "91jeNrEoVnS7",
        "outputId": "52c718e1-5af1-46ac-b4c4-4f3532a946e4"
      },
      "execution_count": null,
      "outputs": [
        {
          "output_type": "stream",
          "name": "stdout",
          "text": [
            "21.9\n"
          ]
        }
      ]
    },
    {
      "cell_type": "code",
      "source": [
        "# Calculando a amplitude\n",
        "amplitude = max(temperatura)-min(temperatura)\n",
        "print(amplitude)\n",
        "\n"
      ],
      "metadata": {
        "colab": {
          "base_uri": "https://localhost:8080/"
        },
        "id": "HjKutZ0PLaW_",
        "outputId": "cfa63c08-d51b-4b9b-ac52-289ae0b527b0"
      },
      "execution_count": null,
      "outputs": [
        {
          "output_type": "stream",
          "name": "stdout",
          "text": [
            "11.5\n"
          ]
        }
      ]
    },
    {
      "cell_type": "code",
      "source": [
        "# Calculando a média\n",
        "media_temp = np.mean(temperatura) \n",
        "print(media_temp)"
      ],
      "metadata": {
        "colab": {
          "base_uri": "https://localhost:8080/"
        },
        "id": "hgRYVJ_4Le9q",
        "outputId": "f4a5e894-25b1-4b60-dda6-7db57de4990a"
      },
      "execution_count": null,
      "outputs": [
        {
          "output_type": "stream",
          "name": "stdout",
          "text": [
            "26.277213114754097\n"
          ]
        }
      ]
    },
    {
      "cell_type": "code",
      "source": [
        "# Calculando a mediana\n",
        "mediana_temp = np.median(temperatura)\n",
        "print(mediana_temp)"
      ],
      "metadata": {
        "id": "3sazkNDJa7f5",
        "colab": {
          "base_uri": "https://localhost:8080/"
        },
        "outputId": "7181181f-64f9-42cc-a201-10c733641ac6"
      },
      "execution_count": null,
      "outputs": [
        {
          "output_type": "stream",
          "name": "stdout",
          "text": [
            "25.7\n"
          ]
        }
      ]
    },
    {
      "cell_type": "code",
      "source": [
        "# Calculando a moda\n",
        "moda_temp = temperatura.mode()\n",
        "print(moda_temp) "
      ],
      "metadata": {
        "id": "Hjb7np50bKrJ",
        "colab": {
          "base_uri": "https://localhost:8080/"
        },
        "outputId": "c58e3180-f907-4b15-a676-40ba93edca3f"
      },
      "execution_count": null,
      "outputs": [
        {
          "output_type": "stream",
          "name": "stdout",
          "text": [
            "0    24.2\n",
            "1    25.1\n",
            "dtype: float64\n"
          ]
        }
      ]
    },
    {
      "cell_type": "code",
      "source": [
        " # Calculando a variância\n",
        "var_temp = np.var(temperatura)\n",
        "print(var_temp)"
      ],
      "metadata": {
        "colab": {
          "base_uri": "https://localhost:8080/"
        },
        "id": "k6L1h10WLbt2",
        "outputId": "510b1d5f-2604-45e6-ac7b-1e07b9bfea49"
      },
      "execution_count": null,
      "outputs": [
        {
          "output_type": "stream",
          "name": "stdout",
          "text": [
            "5.45675944638538\n"
          ]
        }
      ]
    },
    {
      "cell_type": "code",
      "source": [
        " # calculando o desvio padrão\n",
        "desv_temp = np.std(temperatura)\n",
        "print(desv_temp)\n"
      ],
      "metadata": {
        "colab": {
          "base_uri": "https://localhost:8080/"
        },
        "id": "wXaXY33LXnRr",
        "outputId": "19483da8-7a7b-4220-f4c7-f875e917ae44"
      },
      "execution_count": null,
      "outputs": [
        {
          "output_type": "stream",
          "name": "stdout",
          "text": [
            "2.3359707717318257\n"
          ]
        }
      ]
    },
    {
      "cell_type": "code",
      "source": [
        "alpha = 0.05 \n",
        "k2, p = normaltest(df['TEMP_AR'])\n",
        "\n",
        "\n",
        "#Hipotese nula: Os dados seguem distribuição normal \n",
        "#Hipotese alternativa: Os dados não seguem distribuição normal\n",
        "\n",
        "if p < alpha:\n",
        "  print(\"A Hipótese Nula pode ser rejeitada, portanto o p-valor é  significativo α = 5%\")\n",
        "else:\n",
        "  print(\"A hipótese nula não pode ser rejeitada, portanto o p-valor é não significativos α = 5%\")"
      ],
      "metadata": {
        "colab": {
          "base_uri": "https://localhost:8080/"
        },
        "id": "fm8_YVktO7_a",
        "outputId": "3ef00661-bf6f-44e5-8e74-eed33bad1301"
      },
      "execution_count": null,
      "outputs": [
        {
          "output_type": "stream",
          "name": "stdout",
          "text": [
            "A Hipótese Nula pode ser rejeitada, portanto o p-valor é  significativo α = 5%\n"
          ]
        }
      ]
    },
    {
      "cell_type": "code",
      "source": [
        "#Plotando o Histograma de Frequências\n",
        "plt.figure(figsize=(10,7), dpi= 80)\n",
        "sns.distplot(df['TEMP_AR'], color=\"dodgerblue\", label=\"Compact\",)\n",
        "plt.show()\n",
        "#Fazendo o Teste de Normalidade\n",
        "alpha = 0.05\n",
        "k2, p = normaltest(df['TEMP_AR'])\n",
        "#Hipotese nula: Os dados seguem distribuição normal\n",
        "#Hipotese alternativa: Os dados não seguem distribuição normal\n",
        "if p < alpha:\n",
        " print(\"A Hipótese Nula pode ser rejeitada\")\n",
        "else:\n",
        " print(\"A hipótese nula não pode ser rejeitada\")"
      ],
      "metadata": {
        "colab": {
          "base_uri": "https://localhost:8080/",
          "height": 560
        },
        "id": "Zkpf6fSJGzXm",
        "outputId": "7a0c206d-80d7-4535-ffce-40d8dac9d6fe"
      },
      "execution_count": null,
      "outputs": [
        {
          "output_type": "stream",
          "name": "stderr",
          "text": [
            "/usr/local/lib/python3.7/dist-packages/seaborn/distributions.py:2619: FutureWarning: `distplot` is a deprecated function and will be removed in a future version. Please adapt your code to use either `displot` (a figure-level function with similar flexibility) or `histplot` (an axes-level function for histograms).\n",
            "  warnings.warn(msg, FutureWarning)\n"
          ]
        },
        {
          "output_type": "display_data",
          "data": {
            "text/plain": [
              "<Figure size 800x560 with 1 Axes>"
            ],
            "image/png": "[encoded data removed]"
          },
          "metadata": {
            "needs_background": "light"
          }
        },
        {
          "output_type": "stream",
          "name": "stdout",
          "text": [
            "A Hipótese Nula pode ser rejeitada\n"
          ]
        }
      ]
    },
    {
      "cell_type": "code",
      "source": [
        "#resumo do modelo\n",
        "\n",
        "X = df['TEMP_AR']\n",
        "y = df['UMIDADE_REL_DO_AR(%)']\n",
        "X2 = sm.add_constant(X)\n",
        "est = sm.OLS(y, X2)\n",
        "est2 = est.fit() \n",
        "print(est2.summary())"
      ],
      "metadata": {
        "colab": {
          "base_uri": "https://localhost:8080/"
        },
        "id": "Mj4iLWfTTt4p",
        "outputId": "20de858c-cd99-4355-a2c9-a56ae9f5eb64"
      },
      "execution_count": null,
      "outputs": [
        {
          "output_type": "stream",
          "name": "stdout",
          "text": [
            "                             OLS Regression Results                             \n",
            "================================================================================\n",
            "Dep. Variable:     UMIDADE_REL_DO_AR(%)   R-squared:                       0.901\n",
            "Model:                              OLS   Adj. R-squared:                  0.901\n",
            "Method:                   Least Squares   F-statistic:                 1.104e+04\n",
            "Date:                  Mon, 21 Nov 2022   Prob (F-statistic):               0.00\n",
            "Time:                          03:50:15   Log-Likelihood:                -3324.2\n",
            "No. Observations:                  1220   AIC:                             6652.\n",
            "Df Residuals:                      1218   BIC:                             6663.\n",
            "Df Model:                             1                                         \n",
            "Covariance Type:              nonrobust                                         \n",
            "==============================================================================\n",
            "                 coef    std err          t      P>|t|      [0.025      0.975]\n",
            "------------------------------------------------------------------------------\n",
            "const        207.2020      1.194    173.494      0.000     204.859     209.545\n",
            "TEMP_AR       -4.7558      0.045   -105.053      0.000      -4.845      -4.667\n",
            "==============================================================================\n",
            "Omnibus:                        8.489   Durbin-Watson:                   0.482\n",
            "Prob(Omnibus):                  0.014   Jarque-Bera (JB):                8.626\n",
            "Skew:                          -0.203   Prob(JB):                       0.0134\n",
            "Kurtosis:                       2.935   Cond. No.                         298.\n",
            "==============================================================================\n",
            "\n",
            "Notes:\n",
            "[1] Standard Errors assume that the covariance matrix of the errors is correctly specified.\n"
          ]
        },
        {
          "output_type": "stream",
          "name": "stderr",
          "text": [
            "/usr/local/lib/python3.7/dist-packages/statsmodels/tsa/tsatools.py:142: FutureWarning: In a future version of pandas all arguments of concat except for the argument 'objs' will be keyword-only\n",
            "  x = pd.concat(x[::order], 1)\n"
          ]
        }
      ]
    },
    {
      "cell_type": "code",
      "source": [
        "# Boxplot é utilizado para avaliar e comparar o formato, tendência central e variabilidade de distribuições de amostra, e para procurar por outliers. \n",
        "# Por padrão, um boxplot demonstra a mediana, os quartis, o intervalo interquartil(IQR) e outliers para cada variável.\n",
        "\n",
        "sns.boxplot(x=df[\"TEMP_AR\"])"
      ],
      "metadata": {
        "colab": {
          "base_uri": "https://localhost:8080/",
          "height": 297
        },
        "id": "6JT7N_SPGPUy",
        "outputId": "abbb5175-7007-4d50-a285-43b3d60ce6b2"
      },
      "execution_count": null,
      "outputs": [
        {
          "output_type": "execute_result",
          "data": {
            "text/plain": [
              "<matplotlib.axes._subplots.AxesSubplot at 0x7f3045977390>"
            ]
          },
          "metadata": {},
          "execution_count": 39
        },
        {
          "output_type": "display_data",
          "data": {
            "text/plain": [
              "<Figure size 432x288 with 1 Axes>"
            ],
            "image/png": "[encoded data removed]"
          },
          "metadata": {
            "needs_background": "light"
          }
        }
      ]
    },
    {
      "cell_type": "code",
      "source": [
        "#IRQ = Variação interquartil\n",
        "#Identificar primeiro quartil\n",
        "q1 = np.percentile(temperatura,25)\n",
        "q1"
      ],
      "metadata": {
        "colab": {
          "base_uri": "https://localhost:8080/"
        },
        "id": "RhOostGEg_I1",
        "outputId": "1b2ef9f3-7564-4aa0-e5d5-b42bdc355d18"
      },
      "execution_count": null,
      "outputs": [
        {
          "output_type": "execute_result",
          "data": {
            "text/plain": [
              "24.5"
            ]
          },
          "metadata": {},
          "execution_count": 55
        }
      ]
    },
    {
      "cell_type": "code",
      "source": [
        "#Identificar terceiro quartil\n",
        "q3 = np.percentile(temperatura,75)\n",
        "q3"
      ],
      "metadata": {
        "colab": {
          "base_uri": "https://localhost:8080/"
        },
        "id": "xJorEcHKkwQZ",
        "outputId": "c4af9651-f844-4afc-840d-108ce67b147b"
      },
      "execution_count": null,
      "outputs": [
        {
          "output_type": "execute_result",
          "data": {
            "text/plain": [
              "27.7"
            ]
          },
          "metadata": {},
          "execution_count": 54
        }
      ]
    },
    {
      "cell_type": "code",
      "source": [
        "#calculando o IQR\n",
        "iqr = q3-q1\n",
        "iqr"
      ],
      "metadata": {
        "colab": {
          "base_uri": "https://localhost:8080/"
        },
        "id": "9OFlhLyWkzp0",
        "outputId": "307b442f-333f-4936-cec7-cba50a3a580f"
      },
      "execution_count": null,
      "outputs": [
        {
          "output_type": "execute_result",
          "data": {
            "text/plain": [
              "3.1999999999999993"
            ]
          },
          "metadata": {},
          "execution_count": 56
        }
      ]
    },
    {
      "cell_type": "code",
      "source": [
        "#calculando a linha de corte\n",
        "corte = iqr*1.5\n",
        "corte"
      ],
      "metadata": {
        "colab": {
          "base_uri": "https://localhost:8080/"
        },
        "id": "3S7wubB6k2VE",
        "outputId": "37a742ce-7cc7-4a7b-9833-24ffb3190ec7"
      },
      "execution_count": null,
      "outputs": [
        {
          "output_type": "execute_result",
          "data": {
            "text/plain": [
              "4.799999999999999"
            ]
          },
          "metadata": {},
          "execution_count": 57
        }
      ]
    },
    {
      "cell_type": "code",
      "source": [
        "#Calcular os extremos \n",
        "ext_menor = q1 - corte\n",
        "ext_maior = q3 + corte"
      ],
      "metadata": {
        "id": "n2V4v7cRk7QW"
      },
      "execution_count": null,
      "outputs": []
    },
    {
      "cell_type": "code",
      "source": [
        "#Indentificar os valores que são outliers\n",
        "outliers = temperatura[(temperatura<ext_menor) | (temperatura>ext_maior)].index\n",
        "outliers"
      ],
      "metadata": {
        "colab": {
          "base_uri": "https://localhost:8080/"
        },
        "id": "14nhMG7Xk94j",
        "outputId": "62064627-e84c-4752-faaf-2577d1e6c788"
      },
      "execution_count": null,
      "outputs": [
        {
          "output_type": "execute_result",
          "data": {
            "text/plain": [
              "Int64Index([293, 294, 687, 688, 709, 973, 997, 1016, 1018, 1019], dtype='int64')"
            ]
          },
          "metadata": {},
          "execution_count": 62
        }
      ]
    },
    {
      "cell_type": "code",
      "source": [
        "#Remover outliers\n",
        "tirar_outliers = temperatura.drop(outliers)\n",
        "tirar_outliers"
      ],
      "metadata": {
        "colab": {
          "base_uri": "https://localhost:8080/"
        },
        "id": "wc2NKT8vmlp0",
        "outputId": "2b38d26d-6c83-4caa-ddb6-7d2252049eda"
      },
      "execution_count": null,
      "outputs": [
        {
          "output_type": "execute_result",
          "data": {
            "text/plain": [
              "0       28.4\n",
              "1       27.7\n",
              "2       27.7\n",
              "3       27.1\n",
              "4       26.2\n",
              "        ... \n",
              "1215    27.5\n",
              "1216    27.1\n",
              "1217    26.7\n",
              "1218    26.1\n",
              "1219    25.6\n",
              "Name: TEMP_AR, Length: 1210, dtype: float64"
            ]
          },
          "metadata": {},
          "execution_count": 67
        }
      ]
    },
    {
      "cell_type": "code",
      "source": [
        "sns.boxplot(x=tirar_outliers)"
      ],
      "metadata": {
        "colab": {
          "base_uri": "https://localhost:8080/",
          "height": 297
        },
        "id": "D18-WwdLnGXg",
        "outputId": "4244708c-2e25-40b2-b65b-6852f2f18057"
      },
      "execution_count": null,
      "outputs": [
        {
          "output_type": "execute_result",
          "data": {
            "text/plain": [
              "<matplotlib.axes._subplots.AxesSubplot at 0x7f304559ce90>"
            ]
          },
          "metadata": {},
          "execution_count": 66
        },
        {
          "output_type": "display_data",
          "data": {
            "text/plain": [
              "<Figure size 432x288 with 1 Axes>"
            ],
            "image/png": "[encoded data removed]"
          },
          "metadata": {
            "needs_background": "light"
          }
        }
      ]
    },
    {
      "cell_type": "code",
      "source": [
        "# 1º Prática - Elaborar o histograma\n",
        "temperatura.hist()"
      ],
      "metadata": {
        "colab": {
          "base_uri": "https://localhost:8080/",
          "height": 282
        },
        "id": "yaeTcR2jZ9fk",
        "outputId": "99d274b4-0e91-4566-b871-b1106b242ed0"
      },
      "execution_count": null,
      "outputs": [
        {
          "output_type": "execute_result",
          "data": {
            "text/plain": [
              "<matplotlib.axes._subplots.AxesSubplot at 0x7f3045563210>"
            ]
          },
          "metadata": {},
          "execution_count": 68
        },
        {
          "output_type": "display_data",
          "data": {
            "text/plain": [
              "<Figure size 432x288 with 1 Axes>"
            ],
            "image/png": "[encoded data removed]"
          },
          "metadata": {
            "needs_background": "light"
          }
        }
      ]
    },
    {
      "cell_type": "code",
      "source": [
        "# Cria uma imagem vazia\n",
        "fig = plt.figure() #matplotlib cria uma imagem vazia\n",
        "\n",
        "# Plota o histograma\n",
        "plt.hist(temperatura, bins = 10) #s1 será o primeiro arquivo lido\n",
        "\n",
        "# Coloca título nos eixos\n",
        "plt.title(\"Temperatura °C nos meses de Jan/Fev 2021 - Manaus AM\", loc = 'left')\n",
        "\n",
        "# Coloca nome nos eixos\n",
        "plt.xlabel('Temperatura °C')\n",
        "plt.ylabel('Frequência')"
      ],
      "metadata": {
        "colab": {
          "base_uri": "https://localhost:8080/",
          "height": 312
        },
        "id": "CpZOWb3mZNjs",
        "outputId": "1ffe2e9b-259f-4a12-d114-61f20cc1f6c2"
      },
      "execution_count": null,
      "outputs": [
        {
          "output_type": "execute_result",
          "data": {
            "text/plain": [
              "Text(0, 0.5, 'Frequência')"
            ]
          },
          "metadata": {},
          "execution_count": 70
        },
        {
          "output_type": "display_data",
          "data": {
            "text/plain": [
              "<Figure size 432x288 with 1 Axes>"
            ],
            "image/png": "[encoded data removed]"
          },
          "metadata": {
            "needs_background": "light"
          }
        }
      ]
    },
    {
      "cell_type": "code",
      "source": [
        "# Cria uma imagem vazia\n",
        "fig = plt.figure()"
      ],
      "metadata": {
        "colab": {
          "base_uri": "https://localhost:8080/",
          "height": 34
        },
        "id": "AM5J9Y0Acg2B",
        "outputId": "bd862885-e8b2-41e1-c51a-65a3e8d5d8a7"
      },
      "execution_count": null,
      "outputs": [
        {
          "output_type": "display_data",
          "data": {
            "text/plain": [
              "<Figure size 432x288 with 0 Axes>"
            ]
          },
          "metadata": {}
        }
      ]
    },
    {
      "cell_type": "code",
      "source": [
        "###correlação -> com a correlação é possível entender como os dados se correlacionam entre si, \n",
        "# sendo quanto mais próximo de 1 mais correlaciondos, e -1 menos se relacionam\n",
        "\n",
        "correlation = df.corr()\n",
        "plt.figure(figsize = (15,8))\n",
        "plot = sns.heatmap(correlation, annot = True, fmt=\".1f\", linewidths=.10)"
      ],
      "metadata": {
        "colab": {
          "base_uri": "https://localhost:8080/",
          "height": 607
        },
        "id": "AzqxhB93a8NQ",
        "outputId": "40b24854-9ec7-4496-9b09-a3462b4358a0"
      },
      "execution_count": null,
      "outputs": [
        {
          "output_type": "display_data",
          "data": {
            "text/plain": [
              "<Figure size 1080x576 with 2 Axes>"
            ],
            "image/png": "[encoded data removed]"
          },
          "metadata": {
            "needs_background": "light"
          }
        }
      ]
    },
    {
      "cell_type": "code",
      "source": [
        "#removendo os dados nulos ou fatantes\n",
        "\n",
        "df.dropna(subset=['TEMP_AR'], inplace=True) \n",
        "df.dropna(subset=['UMIDADE_REL_DO_AR(%)'], inplace=True)\n",
        "\n",
        "#plotando a relação entre a temperatura do ar e umidade relativa do ar\n",
        "\n",
        "\n",
        "plt.figure(figsize = (16,8))\n",
        "plt.scatter( \n",
        "    df['TEMP_AR'],\n",
        "    df['UMIDADE_REL_DO_AR(%)'], \n",
        "    c='red')\n",
        "plt.xlabel(\" Temperatura do ar\")\n",
        "plt.ylabel(\" UMIDADE_REL_DO_AR(%)\") \n",
        "plt.show()\n",
        "\n",
        "X = df['TEMP_AR'].values.reshape(-1,1) \n",
        "y = df['UMIDADE_REL_DO_AR(%)'].values.reshape(-1,1)\n",
        "\n",
        "#gerando o modelo matemático da regressão linear simples\n",
        "reg = LinearRegression()\n",
        "reg.fit(X, y)\n",
        "\n",
        "\n",
        "print(\"O modelo é: Temperatura °C = {:.5} + {:.5}X\".format(reg.intercept_[0], reg.coef_[0][0]))\n",
        "\n",
        "#Plotando a linha do modelo matemático em cima do grafico\n",
        "\n",
        "f_previsaoes = reg.predict(X)\n",
        "\n",
        "plt.figure(figsize = (16,8)) \n",
        "plt.scatter( \n",
        "    df['TEMP_AR'], \n",
        "    df['UMIDADE_REL_DO_AR(%)'], \n",
        "    c='red')\n",
        "\n",
        "plt.plot( \n",
        "    df['TEMP_AR'], \n",
        "    f_previsaoes, \n",
        "    c='blue', \n",
        "    linewidth=3, \n",
        "    linestyle=':' \n",
        ")\n",
        "\n",
        "plt.xlabel(\" TEMPERATURA °c\") \n",
        "plt.ylabel(\" UMIDADE RELATIVA DO AR (%)\") \n",
        "plt.show()\n",
        "\n"
      ],
      "metadata": {
        "colab": {
          "base_uri": "https://localhost:8080/",
          "height": 995
        },
        "id": "lf7nb-Y6Qr_M",
        "outputId": "cec048fc-cb9a-452f-85f4-3597eb1466d8"
      },
      "execution_count": null,
      "outputs": [
        {
          "output_type": "display_data",
          "data": {
            "text/plain": [
              "<Figure size 1152x576 with 1 Axes>"
            ],
            "image/png": "[encoded data removed]"
          },
          "metadata": {
            "needs_background": "light"
          }
        },
        {
          "output_type": "stream",
          "name": "stdout",
          "text": [
            "O modelo é: TEMP_AR = 207.2 + -4.7558X\n"
          ]
        },
        {
          "output_type": "display_data",
          "data": {
            "text/plain": [
              "<Figure size 1152x576 with 1 Axes>"
            ],
            "image/png": "[encoded data removed]"
          },
          "metadata": {
            "needs_background": "light"
          }
        }
      ]
    }
  ]
}